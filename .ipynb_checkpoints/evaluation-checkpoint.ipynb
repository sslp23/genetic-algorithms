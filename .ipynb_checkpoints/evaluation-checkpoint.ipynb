{
 "cells": [
  {
   "cell_type": "code",
   "execution_count": 7,
   "id": "velvet-memphis",
   "metadata": {},
   "outputs": [],
   "source": [
    "from genetic import EightQueens"
   ]
  },
  {
   "cell_type": "code",
   "execution_count": 17,
   "id": "offshore-rubber",
   "metadata": {},
   "outputs": [],
   "source": [
    "\n",
    "eq = EightQueens()"
   ]
  },
  {
   "cell_type": "code",
   "execution_count": 18,
   "id": "peaceful-element",
   "metadata": {},
   "outputs": [],
   "source": [
    "#UNCOMMENT TO RUN AGAIN\n",
    "data = []\n",
    "for i in range(30):\n",
    "    data.append(eq.execute(10000))"
   ]
  },
  {
   "cell_type": "code",
   "execution_count": 19,
   "id": "individual-chinese",
   "metadata": {},
   "outputs": [],
   "source": [
    "import pandas as pd"
   ]
  },
  {
   "cell_type": "code",
   "execution_count": 20,
   "id": "complex-cartridge",
   "metadata": {},
   "outputs": [],
   "source": [
    "df = pd.DataFrame(data, columns=['converged', 'last iteration', 'mean fitness', 'individuals'])"
   ]
  },
  {
   "cell_type": "code",
   "execution_count": 21,
   "id": "radical-legislature",
   "metadata": {},
   "outputs": [
    {
     "data": {
      "text/html": [
       "<div>\n",
       "<style scoped>\n",
       "    .dataframe tbody tr th:only-of-type {\n",
       "        vertical-align: middle;\n",
       "    }\n",
       "\n",
       "    .dataframe tbody tr th {\n",
       "        vertical-align: top;\n",
       "    }\n",
       "\n",
       "    .dataframe thead th {\n",
       "        text-align: right;\n",
       "    }\n",
       "</style>\n",
       "<table border=\"1\" class=\"dataframe\">\n",
       "  <thead>\n",
       "    <tr style=\"text-align: right;\">\n",
       "      <th></th>\n",
       "      <th>converged</th>\n",
       "      <th>last iteration</th>\n",
       "      <th>mean fitness</th>\n",
       "      <th>individuals</th>\n",
       "    </tr>\n",
       "  </thead>\n",
       "  <tbody>\n",
       "    <tr>\n",
       "      <th>0</th>\n",
       "      <td>False</td>\n",
       "      <td>84</td>\n",
       "      <td>0.227681</td>\n",
       "      <td>0</td>\n",
       "    </tr>\n",
       "    <tr>\n",
       "      <th>1</th>\n",
       "      <td>True</td>\n",
       "      <td>0</td>\n",
       "      <td>0.200523</td>\n",
       "      <td>1</td>\n",
       "    </tr>\n",
       "    <tr>\n",
       "      <th>2</th>\n",
       "      <td>False</td>\n",
       "      <td>84</td>\n",
       "      <td>0.245070</td>\n",
       "      <td>0</td>\n",
       "    </tr>\n",
       "    <tr>\n",
       "      <th>3</th>\n",
       "      <td>False</td>\n",
       "      <td>84</td>\n",
       "      <td>0.249209</td>\n",
       "      <td>0</td>\n",
       "    </tr>\n",
       "    <tr>\n",
       "      <th>4</th>\n",
       "      <td>True</td>\n",
       "      <td>27</td>\n",
       "      <td>0.219184</td>\n",
       "      <td>1</td>\n",
       "    </tr>\n",
       "    <tr>\n",
       "      <th>5</th>\n",
       "      <td>True</td>\n",
       "      <td>0</td>\n",
       "      <td>0.187108</td>\n",
       "      <td>1</td>\n",
       "    </tr>\n",
       "    <tr>\n",
       "      <th>6</th>\n",
       "      <td>False</td>\n",
       "      <td>84</td>\n",
       "      <td>0.261477</td>\n",
       "      <td>0</td>\n",
       "    </tr>\n",
       "    <tr>\n",
       "      <th>7</th>\n",
       "      <td>False</td>\n",
       "      <td>84</td>\n",
       "      <td>0.250142</td>\n",
       "      <td>0</td>\n",
       "    </tr>\n",
       "    <tr>\n",
       "      <th>8</th>\n",
       "      <td>False</td>\n",
       "      <td>84</td>\n",
       "      <td>0.245260</td>\n",
       "      <td>0</td>\n",
       "    </tr>\n",
       "    <tr>\n",
       "      <th>9</th>\n",
       "      <td>True</td>\n",
       "      <td>42</td>\n",
       "      <td>0.222947</td>\n",
       "      <td>1</td>\n",
       "    </tr>\n",
       "    <tr>\n",
       "      <th>10</th>\n",
       "      <td>False</td>\n",
       "      <td>84</td>\n",
       "      <td>0.236865</td>\n",
       "      <td>0</td>\n",
       "    </tr>\n",
       "    <tr>\n",
       "      <th>11</th>\n",
       "      <td>True</td>\n",
       "      <td>68</td>\n",
       "      <td>0.226706</td>\n",
       "      <td>1</td>\n",
       "    </tr>\n",
       "    <tr>\n",
       "      <th>12</th>\n",
       "      <td>True</td>\n",
       "      <td>5</td>\n",
       "      <td>0.200862</td>\n",
       "      <td>1</td>\n",
       "    </tr>\n",
       "    <tr>\n",
       "      <th>13</th>\n",
       "      <td>True</td>\n",
       "      <td>72</td>\n",
       "      <td>0.244282</td>\n",
       "      <td>1</td>\n",
       "    </tr>\n",
       "    <tr>\n",
       "      <th>14</th>\n",
       "      <td>True</td>\n",
       "      <td>0</td>\n",
       "      <td>0.195747</td>\n",
       "      <td>1</td>\n",
       "    </tr>\n",
       "    <tr>\n",
       "      <th>15</th>\n",
       "      <td>True</td>\n",
       "      <td>18</td>\n",
       "      <td>0.204555</td>\n",
       "      <td>1</td>\n",
       "    </tr>\n",
       "    <tr>\n",
       "      <th>16</th>\n",
       "      <td>False</td>\n",
       "      <td>84</td>\n",
       "      <td>0.242337</td>\n",
       "      <td>0</td>\n",
       "    </tr>\n",
       "    <tr>\n",
       "      <th>17</th>\n",
       "      <td>True</td>\n",
       "      <td>9</td>\n",
       "      <td>0.204470</td>\n",
       "      <td>1</td>\n",
       "    </tr>\n",
       "    <tr>\n",
       "      <th>18</th>\n",
       "      <td>True</td>\n",
       "      <td>47</td>\n",
       "      <td>0.228369</td>\n",
       "      <td>1</td>\n",
       "    </tr>\n",
       "    <tr>\n",
       "      <th>19</th>\n",
       "      <td>True</td>\n",
       "      <td>79</td>\n",
       "      <td>0.261471</td>\n",
       "      <td>1</td>\n",
       "    </tr>\n",
       "    <tr>\n",
       "      <th>20</th>\n",
       "      <td>True</td>\n",
       "      <td>54</td>\n",
       "      <td>0.212480</td>\n",
       "      <td>1</td>\n",
       "    </tr>\n",
       "    <tr>\n",
       "      <th>21</th>\n",
       "      <td>True</td>\n",
       "      <td>0</td>\n",
       "      <td>0.194521</td>\n",
       "      <td>1</td>\n",
       "    </tr>\n",
       "    <tr>\n",
       "      <th>22</th>\n",
       "      <td>True</td>\n",
       "      <td>76</td>\n",
       "      <td>0.235034</td>\n",
       "      <td>1</td>\n",
       "    </tr>\n",
       "    <tr>\n",
       "      <th>23</th>\n",
       "      <td>True</td>\n",
       "      <td>52</td>\n",
       "      <td>0.228792</td>\n",
       "      <td>1</td>\n",
       "    </tr>\n",
       "    <tr>\n",
       "      <th>24</th>\n",
       "      <td>True</td>\n",
       "      <td>0</td>\n",
       "      <td>0.194445</td>\n",
       "      <td>1</td>\n",
       "    </tr>\n",
       "    <tr>\n",
       "      <th>25</th>\n",
       "      <td>True</td>\n",
       "      <td>11</td>\n",
       "      <td>0.207398</td>\n",
       "      <td>1</td>\n",
       "    </tr>\n",
       "    <tr>\n",
       "      <th>26</th>\n",
       "      <td>False</td>\n",
       "      <td>84</td>\n",
       "      <td>0.262998</td>\n",
       "      <td>0</td>\n",
       "    </tr>\n",
       "    <tr>\n",
       "      <th>27</th>\n",
       "      <td>True</td>\n",
       "      <td>6</td>\n",
       "      <td>0.209703</td>\n",
       "      <td>1</td>\n",
       "    </tr>\n",
       "    <tr>\n",
       "      <th>28</th>\n",
       "      <td>True</td>\n",
       "      <td>45</td>\n",
       "      <td>0.209383</td>\n",
       "      <td>1</td>\n",
       "    </tr>\n",
       "    <tr>\n",
       "      <th>29</th>\n",
       "      <td>False</td>\n",
       "      <td>84</td>\n",
       "      <td>0.251684</td>\n",
       "      <td>0</td>\n",
       "    </tr>\n",
       "  </tbody>\n",
       "</table>\n",
       "</div>"
      ],
      "text/plain": [
       "    converged  last iteration  mean fitness  individuals\n",
       "0       False              84      0.227681            0\n",
       "1        True               0      0.200523            1\n",
       "2       False              84      0.245070            0\n",
       "3       False              84      0.249209            0\n",
       "4        True              27      0.219184            1\n",
       "5        True               0      0.187108            1\n",
       "6       False              84      0.261477            0\n",
       "7       False              84      0.250142            0\n",
       "8       False              84      0.245260            0\n",
       "9        True              42      0.222947            1\n",
       "10      False              84      0.236865            0\n",
       "11       True              68      0.226706            1\n",
       "12       True               5      0.200862            1\n",
       "13       True              72      0.244282            1\n",
       "14       True               0      0.195747            1\n",
       "15       True              18      0.204555            1\n",
       "16      False              84      0.242337            0\n",
       "17       True               9      0.204470            1\n",
       "18       True              47      0.228369            1\n",
       "19       True              79      0.261471            1\n",
       "20       True              54      0.212480            1\n",
       "21       True               0      0.194521            1\n",
       "22       True              76      0.235034            1\n",
       "23       True              52      0.228792            1\n",
       "24       True               0      0.194445            1\n",
       "25       True              11      0.207398            1\n",
       "26      False              84      0.262998            0\n",
       "27       True               6      0.209703            1\n",
       "28       True              45      0.209383            1\n",
       "29      False              84      0.251684            0"
      ]
     },
     "execution_count": 21,
     "metadata": {},
     "output_type": "execute_result"
    }
   ],
   "source": [
    "df"
   ]
  },
  {
   "cell_type": "code",
   "execution_count": 22,
   "id": "athletic-pledge",
   "metadata": {},
   "outputs": [],
   "source": [
    "#df = pd.read_csv('conv.csv')"
   ]
  },
  {
   "cell_type": "markdown",
   "id": "established-tragedy",
   "metadata": {},
   "source": [
    "## Em quantas iterações o algoritmo convergiu"
   ]
  },
  {
   "cell_type": "code",
   "execution_count": 23,
   "id": "mature-tiffany",
   "metadata": {},
   "outputs": [
    {
     "data": {
      "text/plain": [
       "<AxesSubplot:title={'center':'Número de vezes que o algoritmo convergiu (Tam. Pop. = 120)'}>"
      ]
     },
     "execution_count": 23,
     "metadata": {},
     "output_type": "execute_result"
    },
    {
     "data": {
      "image/png": "[encoded data removed]",
      "text/plain": [
       "<Figure size 1080x576 with 1 Axes>"
      ]
     },
     "metadata": {
      "needs_background": "light"
     },
     "output_type": "display_data"
    }
   ],
   "source": [
    "df.converged.map({True: \"Convergiu\", False: \"Não Convergiu\"}).value_counts().plot(kind=\"bar\", figsize=(15, 8), color=['g', 'r'], title = \"Número de vezes que o algoritmo convergiu (Tam. Pop. = 120)\", rot = 0)"
   ]
  },
  {
   "cell_type": "markdown",
   "id": "renewable-richards",
   "metadata": {},
   "source": [
    "## Em que iteração o algoritmo convergiu (media e desvio padrão)"
   ]
  },
  {
   "cell_type": "code",
   "execution_count": 24,
   "id": "designed-bangladesh",
   "metadata": {},
   "outputs": [
    {
     "data": {
      "text/plain": [
       "count    30.000000\n",
       "mean     48.366667\n",
       "std      34.809316\n",
       "min       0.000000\n",
       "25%       9.500000\n",
       "50%      53.000000\n",
       "75%      84.000000\n",
       "max      84.000000\n",
       "Name: last iteration, dtype: float64"
      ]
     },
     "execution_count": 24,
     "metadata": {},
     "output_type": "execute_result"
    }
   ],
   "source": [
    "df[\"last iteration\"].describe()"
   ]
  },
  {
   "cell_type": "markdown",
   "id": "modular-prayer",
   "metadata": {},
   "source": [
    "## Numero de individuos que convergiram por execução"
   ]
  },
  {
   "cell_type": "code",
   "execution_count": 82,
   "id": "attractive-simon",
   "metadata": {},
   "outputs": [
    {
     "data": {
      "text/plain": [
       "<AxesSubplot:title={'center':'Número de indivíduos que convergiram por execução'}>"
      ]
     },
     "execution_count": 82,
     "metadata": {},
     "output_type": "execute_result"
    },
    {
     "data": {
      "image/png": "[encoded data removed]",
      "text/plain": [
       "<Figure size 1080x576 with 1 Axes>"
      ]
     },
     "metadata": {
      "needs_background": "light"
     },
     "output_type": "display_data"
    }
   ],
   "source": [
    "df['individuals'].plot(figsize=(15,8), title=\"Número de indivíduos que convergiram por execução\")"
   ]
  },
  {
   "cell_type": "markdown",
   "id": "afraid-intro",
   "metadata": {},
   "source": [
    "## Fitness medio em cada uma das execuções"
   ]
  },
  {
   "cell_type": "code",
   "execution_count": 84,
   "id": "biblical-republican",
   "metadata": {},
   "outputs": [
    {
     "data": {
      "text/plain": [
       "<AxesSubplot:title={'center':'Fitness médio em cada uma das execuções'}>"
      ]
     },
     "execution_count": 84,
     "metadata": {},
     "output_type": "execute_result"
    },
    {
     "data": {
      "image/png": "[encoded data removed]",
      "text/plain": [
       "<Figure size 1080x576 with 1 Axes>"
      ]
     },
     "metadata": {
      "needs_background": "light"
     },
     "output_type": "display_data"
    }
   ],
   "source": [
    "df['mean fitness'].plot(figsize=(15,8), title=\"Fitness médio em cada uma das execuções\")"
   ]
  },
  {
   "cell_type": "markdown",
   "id": "saved-mechanism",
   "metadata": {},
   "source": [
    "## Fitness médio alcançado nas 30 execuções (média e desvio padrão)"
   ]
  },
  {
   "cell_type": "code",
   "execution_count": 85,
   "id": "fuzzy-jacket",
   "metadata": {},
   "outputs": [
    {
     "data": {
      "text/plain": [
       "count    30.000000\n",
       "mean      0.226903\n",
       "std       0.026761\n",
       "min       0.188857\n",
       "25%       0.204968\n",
       "50%       0.220399\n",
       "75%       0.250288\n",
       "max       0.277994\n",
       "Name: mean fitness, dtype: float64"
      ]
     },
     "execution_count": 85,
     "metadata": {},
     "output_type": "execute_result"
    }
   ],
   "source": [
    "df['mean fitness'].describe()"
   ]
  },
  {
   "cell_type": "markdown",
   "id": "later-nirvana",
   "metadata": {},
   "source": [
    "## Convergencia com a média"
   ]
  },
  {
   "cell_type": "code",
   "execution_count": 92,
   "id": "broad-digest",
   "metadata": {},
   "outputs": [
    {
     "data": {
      "text/plain": [
       "0     0.188857\n",
       "1     0.190593\n",
       "2     0.195680\n",
       "3     0.199258\n",
       "4     0.199662\n",
       "5     0.202457\n",
       "6     0.202806\n",
       "7     0.204818\n",
       "8     0.205417\n",
       "9     0.207143\n",
       "10    0.207789\n",
       "11    0.211071\n",
       "12    0.211860\n",
       "13    0.214922\n",
       "14    0.219527\n",
       "15    0.221271\n",
       "16    0.221650\n",
       "17    0.227478\n",
       "18    0.240298\n",
       "19    0.241188\n",
       "20    0.248154\n",
       "21    0.249268\n",
       "22    0.250628\n",
       "23    0.254384\n",
       "24    0.254917\n",
       "25    0.256273\n",
       "26    0.262856\n",
       "27    0.263044\n",
       "28    0.275819\n",
       "29    0.277994\n",
       "Name: mean fitness, dtype: float64"
      ]
     },
     "execution_count": 92,
     "metadata": {},
     "output_type": "execute_result"
    }
   ],
   "source": [
    "df['mean fitness'].sort_values().reset_index(drop=True)"
   ]
  },
  {
   "cell_type": "code",
   "execution_count": 7,
   "id": "intelligent-building",
   "metadata": {},
   "outputs": [],
   "source": [
    "conv = eq.execute(10000, see_converge = True)"
   ]
  },
  {
   "cell_type": "code",
   "execution_count": 10,
   "id": "driven-eligibility",
   "metadata": {},
   "outputs": [],
   "source": [
    "import pandas as pd"
   ]
  },
  {
   "cell_type": "code",
   "execution_count": 13,
   "id": "confused-translation",
   "metadata": {},
   "outputs": [],
   "source": [
    "import numpy as np\n",
    "import matplotlib.pyplot as plt"
   ]
  },
  {
   "cell_type": "code",
   "execution_count": 33,
   "id": "average-radio",
   "metadata": {},
   "outputs": [
    {
     "data": {
      "image/png": "[encoded data removed]",
      "text/plain": [
       "<Figure size 1080x576 with 1 Axes>"
      ]
     },
     "metadata": {
      "needs_background": "light"
     },
     "output_type": "display_data"
    }
   ],
   "source": [
    "plt.figure(figsize=(15, 8))\n",
    "plt.subplot(111)\n",
    "plt.plot(conv[1])\n",
    "\n",
    "\n",
    "plt.plot([np.mean(conv[1])]*len(conv[1]), \"m--\") \n",
    "plt.title(\"Evolução do fitness da população em relação ao seu fitness médio\")\n",
    "\n",
    "plt.show()"
   ]
  },
  {
   "cell_type": "code",
   "execution_count": 1,
   "id": "becoming-medium",
   "metadata": {},
   "outputs": [
    {
     "data": {
      "text/plain": [
       "(True, 2669, 0.5032990806495864, 100)"
      ]
     },
     "execution_count": 1,
     "metadata": {},
     "output_type": "execute_result"
    }
   ],
   "source": [
    "from genetic import EightQueens\n",
    "eq = EightQueens()\n",
    "eq.execute(100000, all_converge=True)"
   ]
  },
  {
   "cell_type": "code",
   "execution_count": 2,
   "id": "natural-module",
   "metadata": {},
   "outputs": [
    {
     "name": "stdout",
     "output_type": "stream",
     "text": [
      "0\n",
      "1\n",
      "2\n",
      "3\n",
      "4\n",
      "5\n",
      "6\n",
      "7\n",
      "8\n",
      "9\n",
      "10\n",
      "11\n",
      "12\n",
      "13\n",
      "14\n",
      "15\n",
      "16\n",
      "17\n",
      "18\n",
      "19\n",
      "20\n",
      "21\n",
      "22\n",
      "23\n",
      "24\n",
      "25\n",
      "26\n",
      "27\n",
      "28\n",
      "29\n"
     ]
    }
   ],
   "source": [
    "#UNCOMMENT TO RUN AGAIN\n",
    "data = []\n",
    "for i in range(30):\n",
    "    data.append(eq.execute(100000, all_converge=True))\n",
    "    print(i)"
   ]
  },
  {
   "cell_type": "code",
   "execution_count": 5,
   "id": "ordered-oregon",
   "metadata": {},
   "outputs": [],
   "source": [
    "import pandas as pd\n",
    "Ldf = pd.DataFrame(data, columns=['converged', 'last iteration', 'mean fitness', 'individuals'])"
   ]
  },
  {
   "cell_type": "code",
   "execution_count": 6,
   "id": "foreign-compiler",
   "metadata": {},
   "outputs": [
    {
     "data": {
      "text/plain": [
       "count     30.000000\n",
       "mean     434.600000\n",
       "std      146.284465\n",
       "min      208.000000\n",
       "25%      356.250000\n",
       "50%      401.000000\n",
       "75%      453.500000\n",
       "max      934.000000\n",
       "Name: last iteration, dtype: float64"
      ]
     },
     "execution_count": 6,
     "metadata": {},
     "output_type": "execute_result"
    }
   ],
   "source": [
    "Ldf['last iteration'].describe()"
   ]
  },
  {
   "cell_type": "code",
   "execution_count": null,
   "id": "current-aging",
   "metadata": {},
   "outputs": [],
   "source": []
  }
 ],
 "metadata": {
  "kernelspec": {
   "display_name": "Python 3",
   "language": "python",
   "name": "python3"
  },
  "language_info": {
   "codemirror_mode": {
    "name": "ipython",
    "version": 3
   },
   "file_extension": ".py",
   "mimetype": "text/x-python",
   "name": "python",
   "nbconvert_exporter": "python",
   "pygments_lexer": "ipython3",
   "version": "3.7.6"
  }
 },
 "nbformat": 4,
 "nbformat_minor": 5
}
