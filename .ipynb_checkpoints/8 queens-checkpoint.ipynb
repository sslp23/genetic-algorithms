{
 "cells": [
  {
   "cell_type": "code",
   "execution_count": 2,
   "id": "rocky-humor",
   "metadata": {},
   "outputs": [],
   "source": [
    "import random\n",
    "import numpy as np\n",
    "\n",
    "TABLE_SIZE = 8\n",
    "POP_SIZE = 100\n",
    "CROSS_RATE = 0.9\n",
    "MUT_RATE = 0.4\n",
    "MAX_PAR = 5"
   ]
  },
  {
   "cell_type": "code",
   "execution_count": 3,
   "id": "serious-reply",
   "metadata": {},
   "outputs": [],
   "source": [
    "def population_gen():\n",
    "    pop = []\n",
    "    \n",
    "    for i in range(POP_SIZE):\n",
    "        seq = []\n",
    "        while len(seq)<TABLE_SIZE: #checa se um numero foi adicionado\n",
    "            pos_nn = random.randint(1, TABLE_SIZE) #possivel novo numero\n",
    "            if pos_nn not in seq:\n",
    "                seq.append(pos_nn)\n",
    "                \n",
    "        pop.append(seq)\n",
    "        \n",
    "    return pop"
   ]
  },
  {
   "cell_type": "code",
   "execution_count": 8,
   "id": "amended-precipitation",
   "metadata": {},
   "outputs": [],
   "source": [
    "def fitness(ind): #inverso da penalidade\n",
    "    encounters = 0\n",
    "    \n",
    "    for i in range(TABLE_SIZE):\n",
    "        for j in range(TABLE_SIZE):\n",
    "            if i == j:\n",
    "                continue\n",
    "            else:\n",
    "                if ind[i] == ind[j]:\n",
    "                    encounters+=1\n",
    "                if abs(ind[i] - ind[j]) == abs(i-j):\n",
    "                    encounters+=1\n",
    "            \n",
    "\n",
    "    penalty = encounters/2 #a penalidade vai ser o número de encontros entre rainhas possíveis\n",
    "    fit = 1/(1+penalty) #quando a penalidade for 0, teremos o fitness de 100%\n",
    "    \n",
    "    return fit             "
   ]
  },
  {
   "cell_type": "code",
   "execution_count": 4,
   "id": "parliamentary-celebration",
   "metadata": {},
   "outputs": [],
   "source": [
    "## TORNEIO\n",
    "\n",
    "def select_par(pop):\n",
    "    par_fitness = []\n",
    "    for p in pop:\n",
    "        par_fitness.append(fitness(pop[p]))\n",
    "        \n",
    "    par1 = \n",
    "    par1 = possible_parents[np.argsort(par_fitness)[-1]] #best parent 1\n",
    "    par2 = possible_parents[np.argsort(par_fitness)[-2]] #best parent 2\n",
    "    \n",
    "    return par1, par2"
   ]
  },
  {
   "cell_type": "code",
   "execution_count": null,
   "id": "bronze-family",
   "metadata": {},
   "outputs": [],
   "source": []
  },
  {
   "cell_type": "code",
   "execution_count": 5,
   "id": "attached-plenty",
   "metadata": {},
   "outputs": [],
   "source": [
    "pop = population_gen()"
   ]
  },
  {
   "cell_type": "code",
   "execution_count": 9,
   "id": "executive-sewing",
   "metadata": {},
   "outputs": [
    {
     "data": {
      "text/plain": [
       "(24, 36)"
      ]
     },
     "execution_count": 9,
     "metadata": {},
     "output_type": "execute_result"
    }
   ],
   "source": [
    "select_par(pop)"
   ]
  },
  {
   "cell_type": "code",
   "execution_count": 5,
   "id": "naked-basketball",
   "metadata": {},
   "outputs": [],
   "source": [
    "def cross_aux(par1, par2, cross_point):\n",
    "    used = [False]*(TABLE_SIZE+1)\n",
    "    \n",
    "    child1 = []\n",
    "    for i in range(0, cross_point):\n",
    "        child1.append(par1[i])\n",
    "        \n",
    "        used[par1[i]] = True\n",
    "  \n",
    "    j = 0\n",
    "    for i in range(cross_point, TABLE_SIZE):\n",
    "        while(used[par2[j]] == True):\n",
    "            j+=1\n",
    "        child1.append(par2[j])\n",
    "        used[par2[j]] = True\n",
    "    \n",
    "    return child1\n",
    "\n",
    "def new_cut_crossfill(parents, population):\n",
    "    cross_point = random.randint(1, TABLE_SIZE-1)\n",
    "    par1, par2 = population[parents[0]], population[parents[1]]\n",
    "    \n",
    "    child1 = cross_aux(par1, par2, cross_point)\n",
    "    child2 = cross_aux(par2, par1, cross_point)\n",
    "    \n",
    "    return child1, child2"
   ]
  },
  {
   "cell_type": "code",
   "execution_count": 7,
   "id": "retired-sacrifice",
   "metadata": {},
   "outputs": [],
   "source": [
    "def mutate(offsprings):\n",
    "    \n",
    "    for child in offsprings:\n",
    "        x = 0\n",
    "        y = 0\n",
    "        while x == y:\n",
    "            x = random.randint(0, TABLE_SIZE-1)\n",
    "            y = random.randint(0, TABLE_SIZE-1)\n",
    "        \n",
    "        aux = child[x]\n",
    "        child[x] = child[y]\n",
    "        child[y] = aux\n",
    "\n",
    "    return offsprings\n",
    "    "
   ]
  },
  {
   "cell_type": "code",
   "execution_count": 8,
   "id": "empty-trinity",
   "metadata": {},
   "outputs": [],
   "source": [
    "def new_pop(pop, children):\n",
    "    pop_fitness = []\n",
    "    \n",
    "    for p in range(POP_SIZE):\n",
    "        fit = fitness(pop[p])\n",
    "        pop_fitness.append((p, fit))\n",
    "    \n",
    "    pop_sorted = sorted(pop_fitness, key=lambda x: x[1])\n",
    "    \n",
    "    subs = (pop_sorted[0][0], pop_sorted[1][0])\n",
    "    \n",
    "    \n",
    "    pop[subs[0]] = children[0]\n",
    "    pop[subs[1]] = children[1]\n",
    "    \n",
    "    return  pop"
   ]
  },
  {
   "cell_type": "code",
   "execution_count": 31,
   "id": "changed-geneva",
   "metadata": {},
   "outputs": [
    {
     "name": "stdout",
     "output_type": "stream",
     "text": [
      "solução não encontrada. fitness médio: 0.19393358438946656. geracao: 1\n",
      "solução não encontrada. fitness médio: 0.19624278499278483. geracao: 2\n",
      "solução não encontrada. fitness médio: 0.19983369408369392. geracao: 3\n",
      "solução não encontrada. fitness médio: 0.2010357142857141. geracao: 4\n",
      "solução não encontrada. fitness médio: 0.2027420634920633. geracao: 5\n",
      "solução não encontrada. fitness médio: 0.2038095238095236. geracao: 6\n",
      "solução não encontrada. fitness médio: 0.20580952380952364. geracao: 7\n",
      "solução não encontrada. fitness médio: 0.2065595238095236. geracao: 8\n",
      "solução não encontrada. fitness médio: 0.2071547619047617. geracao: 9\n",
      "solução não encontrada. fitness médio: 0.2084047619047617. geracao: 10\n",
      "solução não encontrada. fitness médio: 0.2099047619047617. geracao: 11\n",
      "solução não encontrada. fitness médio: 0.21490476190476168. geracao: 12\n",
      "solução não encontrada. fitness médio: 0.21704761904761885. geracao: 13\n",
      "solução não encontrada. fitness médio: 0.21704761904761885. geracao: 14\n",
      "solução não encontrada. fitness médio: 0.21704761904761885. geracao: 15\n",
      "solução não encontrada. fitness médio: 0.218690476190476. geracao: 16\n",
      "solução não encontrada. fitness médio: 0.22249999999999978. geracao: 17\n",
      "solução não encontrada. fitness médio: 0.22630952380952363. geracao: 18\n",
      "solução não encontrada. fitness médio: 0.22845238095238074. geracao: 19\n",
      "solução não encontrada. fitness médio: 0.22934523809523785. geracao: 20\n",
      "solução não encontrada. fitness médio: 0.2306666666666664. geracao: 21\n",
      "solução não encontrada. fitness médio: 0.23364285714285693. geracao: 22\n",
      "solução não encontrada. fitness médio: 0.23453571428571407. geracao: 23\n",
      "solução não encontrada. fitness médio: 0.23828571428571407. geracao: 24\n",
      "solução não encontrada. fitness médio: 0.24042857142857124. geracao: 25\n",
      "solução não encontrada. fitness médio: 0.24133333333333312. geracao: 26\n",
      "solução não encontrada. fitness médio: 0.24216666666666645. geracao: 27\n",
      "solução não encontrada. fitness médio: 0.24226190476190457. geracao: 28\n",
      "solução não encontrada. fitness médio: 0.24499999999999977. geracao: 29\n",
      "solução não encontrada. fitness médio: 0.24749999999999978. geracao: 30\n",
      "solução não encontrada. fitness médio: 0.24749999999999978. geracao: 31\n",
      "solução encontrada\n",
      "[5, 1, 8, 4, 2, 7, 3, 6] 1.0\n"
     ]
    }
   ],
   "source": [
    "tests = 0\n",
    "generation = 0 \n",
    "pop = population_gen()\n",
    "sol = False\n",
    "\n",
    "while tests < 10000 and sol == False:\n",
    "    test_fitness = 0\n",
    "    for ind in pop:\n",
    "        if fitness(ind) == 1: #não há colisões\n",
    "            print(\"solução encontrada\")\n",
    "            print(ind, fitness(ind))\n",
    "            sol = True\n",
    "            break\n",
    "        else:\n",
    "            test_fitness += fitness(ind)\n",
    "            tests+=1\n",
    "            \n",
    "    if sol == False:\n",
    "        generation+=1\n",
    "        print(\"solução não encontrada. fitness médio: \" + str(test_fitness/POP_SIZE) + \". geracao: \" + str(generation))\n",
    "        \n",
    "        if random.random() < CROSS_RATE: \n",
    "            parents = select_par(pop)\n",
    "            offsprings = new_cut_crossfill(parents, pop)\n",
    "            if random.random() < MUT_RATE:\n",
    "                new_gen = mutate(offsprings)\n",
    "\n",
    "                pop = new_pop(pop, new_gen)\n",
    "            else:\n",
    "                pop = new_pop(pop, offsprings)"
   ]
  },
  {
   "cell_type": "code",
   "execution_count": null,
   "id": "essential-construction",
   "metadata": {},
   "outputs": [],
   "source": []
  },
  {
   "cell_type": "code",
   "execution_count": null,
   "id": "cheap-contrary",
   "metadata": {},
   "outputs": [],
   "source": []
  },
  {
   "cell_type": "code",
   "execution_count": 1,
   "id": "wrapped-turner",
   "metadata": {},
   "outputs": [],
   "source": [
    "from genetic import EightQueens"
   ]
  },
  {
   "cell_type": "code",
   "execution_count": 2,
   "id": "durable-westminster",
   "metadata": {},
   "outputs": [],
   "source": [
    "eq = EightQueens()"
   ]
  },
  {
   "cell_type": "code",
   "execution_count": 1,
   "id": "smoking-context",
   "metadata": {},
   "outputs": [
    {
     "ename": "NameError",
     "evalue": "name 'eq' is not defined",
     "output_type": "error",
     "traceback": [
      "\u001b[0;31m---------------------------------------------------------------------------\u001b[0m",
      "\u001b[0;31mNameError\u001b[0m                                 Traceback (most recent call last)",
      "\u001b[0;32m<ipython-input-1-b270a4f6a728>\u001b[0m in \u001b[0;36m<module>\u001b[0;34m\u001b[0m\n\u001b[0;32m----> 1\u001b[0;31m \u001b[0meq\u001b[0m\u001b[0;34m.\u001b[0m\u001b[0mexecute\u001b[0m\u001b[0;34m(\u001b[0m\u001b[0;36m10000\u001b[0m\u001b[0;34m)\u001b[0m\u001b[0;34m\u001b[0m\u001b[0;34m\u001b[0m\u001b[0m\n\u001b[0m",
      "\u001b[0;31mNameError\u001b[0m: name 'eq' is not defined"
     ]
    }
   ],
   "source": [
    "eq.execute(10000)"
   ]
  },
  {
   "cell_type": "code",
   "execution_count": null,
   "id": "received-bacteria",
   "metadata": {},
   "outputs": [],
   "source": []
  },
  {
   "cell_type": "code",
   "execution_count": null,
   "id": "reserved-yahoo",
   "metadata": {},
   "outputs": [],
   "source": []
  },
  {
   "cell_type": "code",
   "execution_count": 17,
   "id": "rental-discount",
   "metadata": {},
   "outputs": [
    {
     "data": {
      "text/plain": [
       "2.0"
      ]
     },
     "execution_count": 17,
     "metadata": {},
     "output_type": "execute_result"
    }
   ],
   "source": []
  },
  {
   "cell_type": "code",
   "execution_count": null,
   "id": "invisible-photography",
   "metadata": {},
   "outputs": [],
   "source": []
  }
 ],
 "metadata": {
  "kernelspec": {
   "display_name": "Python 3",
   "language": "python",
   "name": "python3"
  },
  "language_info": {
   "codemirror_mode": {
    "name": "ipython",
    "version": 3
   },
   "file_extension": ".py",
   "mimetype": "text/x-python",
   "name": "python",
   "nbconvert_exporter": "python",
   "pygments_lexer": "ipython3",
   "version": "3.7.6"
  }
 },
 "nbformat": 4,
 "nbformat_minor": 5
}
